{
  "cells": [
    {
      "cell_type": "markdown",
      "metadata": {
        "id": "view-in-github",
        "colab_type": "text"
      },
      "source": [
        "<a href=\"https://colab.research.google.com/github/DaniloNamitala/ATIVIDADE1_CPA/blob/master/ATIVIDADE_1_DANILO_NAMITALA.ipynb\" target=\"_parent\"><img src=\"https://colab.research.google.com/assets/colab-badge.svg\" alt=\"Open In Colab\"/></a>"
      ]
    },
    {
      "cell_type": "markdown",
      "metadata": {
        "id": "XAdlKnDBj5uB"
      },
      "source": [
        "# EFC1 GCC253 - Complexidade e Projeto de Algoritmos - 5 pontos.\n",
        "\n",
        "\n",
        "> **Prof.: Douglas H. S. Abreu**\n",
        "\n",
        "\n",
        "**Aluno** - **Matricula:**\n",
        "\n",
        "- Danilo Aparecido Namitala - 202011125\n",
        "\n",
        "\n",
        "**Turma**: 10A\n",
        "\n",
        "Link do repositório GitHub: https://github.com/DaniloNamitala/ATIVIDADE1_CPA"
      ]
    },
    {
      "cell_type": "markdown",
      "metadata": {
        "id": "kPNpzNYwkKAO"
      },
      "source": [
        "# Funções de Ordenação\n",
        "\n",
        "\n"
      ]
    },
    {
      "cell_type": "markdown",
      "metadata": {
        "id": "nEw1UEsmoKMg"
      },
      "source": [
        "##  Insertion Sort\n"
      ]
    },
    {
      "cell_type": "code",
      "execution_count": null,
      "metadata": {
        "id": "kbOrhdB-j_px"
      },
      "outputs": [],
      "source": [
        "def insertionSort(array):\n",
        "  for i in range(1, len(array)):\n",
        "    j = i\n",
        "    key = array[j]\n",
        "    while(j > 0 and array[j-1] > key):\n",
        "      array[j] = array[j-1]\n",
        "      j -= 1\n",
        "    array[j] = key\n",
        "  return array"
      ]
    },
    {
      "cell_type": "markdown",
      "metadata": {
        "id": "9a-wJwU-wtmQ"
      },
      "source": [
        "##  Merge Sort\n"
      ]
    },
    {
      "cell_type": "code",
      "execution_count": null,
      "metadata": {
        "id": "8cgIJ_4EwbPN"
      },
      "outputs": [],
      "source": [
        "def interpolate(array, begin, end):\n",
        "  middle = (begin + end) // 2\n",
        "  size = end - begin + 1\n",
        "  aux = [0 for i in range(size)]\n",
        "  i = begin\n",
        "  j = middle + 1\n",
        "  for k in range(size):\n",
        "    if (i <= middle and j <= end):\n",
        "      if (array[i] <= array[j]):\n",
        "        aux[k] = array[i]\n",
        "        i += 1\n",
        "      else:\n",
        "        aux[k] = array[j]\n",
        "        j += 1\n",
        "    else:\n",
        "      if (i > middle):\n",
        "        aux[k] = array[j]\n",
        "        j += 1\n",
        "      else:\n",
        "        aux[k] = array[i]\n",
        "        i += 1\n",
        "  for k in range(size):\n",
        "    array[begin + k] = aux[k]\n",
        "\n",
        "\n",
        "def mergeSort(array, begin, end):\n",
        "  if (begin < end):\n",
        "    middle = (begin + end) // 2\n",
        "    mergeSort(array, begin, middle)\n",
        "    mergeSort(array, middle+1, end)\n",
        "    interpolate(array, begin, end)\n",
        "  return array"
      ]
    },
    {
      "cell_type": "markdown",
      "metadata": {
        "id": "8dWpeYUvw-wU"
      },
      "source": [
        "##  Selection Sort\n"
      ]
    },
    {
      "cell_type": "code",
      "execution_count": null,
      "metadata": {
        "id": "vNgUDShawygu"
      },
      "outputs": [],
      "source": [
        "def selectionSort(array):\n",
        "  size = len(array)\n",
        "  for i in range(size):\n",
        "    j = i + 1\n",
        "    for j in range(i + 1, size):\n",
        "      if (array[i] > array[j]):\n",
        "        array[i], array[j] = array[j], array[i]\n",
        "  return array"
      ]
    },
    {
      "cell_type": "markdown",
      "metadata": {
        "id": "zNI1kX0yyDrs"
      },
      "source": [
        "##  Bubble Sort\n"
      ]
    },
    {
      "cell_type": "code",
      "execution_count": null,
      "metadata": {
        "id": "6X_zk1yWxMQS"
      },
      "outputs": [],
      "source": [
        "def bubbleSort(array):\n",
        "  last = len(array) - 1\n",
        "  for end in range(last, 0, -1):\n",
        "    for i in range(0, end):\n",
        "      if (array[i] > array[i+1]):\n",
        "       array[i], array[i+1] = array[i+1], array[i]\n",
        "  return array"
      ]
    },
    {
      "cell_type": "markdown",
      "metadata": {
        "id": "vk4vOTkKyLB-"
      },
      "source": [
        "## Heap Sort"
      ]
    },
    {
      "cell_type": "code",
      "execution_count": null,
      "metadata": {
        "id": "39a7xXzLyH9g",
        "colab": {
          "base_uri": "https://localhost:8080/"
        },
        "outputId": "4d841463-f126-4b43-8603-39e7f418a37b"
      },
      "outputs": [
        {
          "output_type": "stream",
          "name": "stdout",
          "text": [
            "[1, 5, 9, 7, 3, 5, -2] -> [-2, 1, 3, 5, 5, 7, 9]\n"
          ]
        }
      ],
      "source": [
        "def heapify(array, n, i): \n",
        "    largest = i\n",
        "    l = 2 * i + 1\n",
        "    r = 2 * i + 2\n",
        "\n",
        "    if l < n and array[i] < array[l]:\n",
        "      largest = l\n",
        "    \n",
        "    if r < n and array[largest] < array[r]:\n",
        "      largest = r\n",
        "\n",
        "    if largest != i:\n",
        "      array[i], array[largest] = array[largest], array[i]\n",
        "      heapify(array, n, largest) \n",
        "\n",
        "def heapSort(array):\n",
        "  n = len(array)\n",
        "\n",
        "  for i in range(n //2, -1, -1):\n",
        "    heapify(array, n, i)\n",
        "\n",
        "  for i in range(n - 1, 0, -1): \n",
        "    array[i], array[0] = array[0], array[i]\n",
        "    heapify(array, i, 0)\n",
        "  return array\n",
        "\n",
        "arr = [1,5,9,7,3,5,-2]\n",
        "print(f\"{arr} -> {heapSort(arr)}\")"
      ]
    },
    {
      "cell_type": "markdown",
      "metadata": {
        "id": "fFiGho5CyU3t"
      },
      "source": [
        "## Quick Sort com pivo sendo o ultimo elemento do arranjo\n",
        "\n",
        "> pivo = *A[A-comprimento]*"
      ]
    },
    {
      "cell_type": "code",
      "execution_count": null,
      "metadata": {
        "id": "1Ie_N5CRyKY7"
      },
      "outputs": [],
      "source": [
        "def partition(array, begin, end):\n",
        "  pivot = array[end]\n",
        "  i = begin - 1\n",
        "  j = end + 1\n",
        "  while(True):\n",
        "    j -= 1\n",
        "    while(array[j] > pivot):\n",
        "      j -= 1\n",
        "    i += 1\n",
        "    while(array[i] < pivot):\n",
        "      i += 1\n",
        "    if (i >= j):\n",
        "      return j\n",
        "    array[i], array[j] = array[j], array[i]\n",
        "\n",
        "def quickSort(array, begin, pivot):\n",
        "  if (begin < pivot):\n",
        "    newPivot = partition(array, begin, pivot)\n",
        "    quickSort(array, begin, newPivot-1)\n",
        "    quickSort(array, newPivot+1, pivot)\n",
        "  return array"
      ]
    },
    {
      "cell_type": "markdown",
      "metadata": {
        "id": "VomdAnCrzEv1"
      },
      "source": [
        "# Questões"
      ]
    },
    {
      "cell_type": "markdown",
      "metadata": {
        "id": "3QKV979kzItD"
      },
      "source": [
        "\n",
        "\n",
        "1.   Escolha pelo menos 3 arranjos. Ex: ***A[5,...,1000,...,100]*** e mostre o funcionamento dos Algoritmos realizando a ordenação.\n",
        "----\n",
        "###**Importante!!**\n",
        "\n",
        "É necessário rodar esse script abaixo antes de cada teste para resetar os arrays, uma vez que a passagem de parametros em python é por referencia eles terão o valor alterado na execução dos algoritmos\n",
        "\n",
        "\n"
      ]
    },
    {
      "cell_type": "code",
      "execution_count": null,
      "metadata": {
        "id": "nBfs279_1Vko"
      },
      "outputs": [],
      "source": [
        "arr1 = [-5,1,9,7,3,2,-6,-4,0]\n",
        "arr2 = [0,-1,-2,-3,-4,-5,-6]\n",
        "arr3 = [100,60,40,0,1000,36,74]"
      ]
    },
    {
      "cell_type": "code",
      "source": [
        "## INSERRION SORT\n",
        "\n",
        "print(f\"{arr1}  -> {insertionSort(arr1)}\")\n",
        "print(f\"{arr2}     -> {insertionSort(arr2)}\")\n",
        "print(f\"{arr3}  -> {insertionSort(arr3)}\")"
      ],
      "metadata": {
        "colab": {
          "base_uri": "https://localhost:8080/"
        },
        "id": "pbhf7UILBOia",
        "outputId": "18f4da63-26b4-4088-9b70-736e1d9660cb"
      },
      "execution_count": null,
      "outputs": [
        {
          "output_type": "stream",
          "name": "stdout",
          "text": [
            "[-6, -5, -4, 0, 1, 2, 3, 7, 9]  -> [-6, -5, -4, 0, 1, 2, 3, 7, 9]\n",
            "[-6, -5, -4, -3, -2, -1, 0]     -> [-6, -5, -4, -3, -2, -1, 0]\n",
            "[0, 36, 40, 60, 74, 100, 1000]  -> [0, 36, 40, 60, 74, 100, 1000]\n"
          ]
        }
      ]
    },
    {
      "cell_type": "code",
      "source": [
        "## MERGE SORT\n",
        "\n",
        "print(f\"{arr1}  -> {mergeSort(arr1, 0, 8)}\")\n",
        "print(f\"{arr2}     -> {mergeSort(arr2, 0, 6)}\")\n",
        "print(f\"{arr3}  -> {mergeSort(arr3, 0, 6)}\")"
      ],
      "metadata": {
        "colab": {
          "base_uri": "https://localhost:8080/"
        },
        "id": "A8-3xjyrBkRJ",
        "outputId": "f6dd6623-c709-4e50-82e5-5bf655b5fd55"
      },
      "execution_count": null,
      "outputs": [
        {
          "output_type": "stream",
          "name": "stdout",
          "text": [
            "[-6, -5, -4, 0, 1, 2, 3, 7, 9]  -> [-6, -5, -4, 0, 1, 2, 3, 7, 9]\n",
            "[-6, -5, -4, -3, -2, -1, 0]     -> [-6, -5, -4, -3, -2, -1, 0]\n",
            "[0, 40, 60, 100, 36, 1000, 74]  -> [0, 36, 40, 60, 74, 100, 1000]\n"
          ]
        }
      ]
    },
    {
      "cell_type": "code",
      "source": [
        "## SELECTION SORT\n",
        "\n",
        "print(f\"{arr1}  -> {selectionSort(arr1)}\")\n",
        "print(f\"{arr2}     -> {selectionSort(arr2)}\")\n",
        "print(f\"{arr3}  -> {selectionSort(arr3)}\")"
      ],
      "metadata": {
        "colab": {
          "base_uri": "https://localhost:8080/"
        },
        "id": "e3e_8NJBB-tv",
        "outputId": "6046c2e4-656d-45ac-c23a-63c8aee7dcf0"
      },
      "execution_count": null,
      "outputs": [
        {
          "output_type": "stream",
          "name": "stdout",
          "text": [
            "[-6, -5, -4, 0, 1, 2, 3, 7, 9]  -> [-6, -5, -4, 0, 1, 2, 3, 7, 9]\n",
            "[-6, -5, -4, -3, -2, -1, 0]     -> [-6, -5, -4, -3, -2, -1, 0]\n",
            "[0, 36, 40, 60, 74, 100, 1000]  -> [0, 36, 40, 60, 74, 100, 1000]\n"
          ]
        }
      ]
    },
    {
      "cell_type": "code",
      "source": [
        "## BUBBLE SORT\n",
        "\n",
        "print(f\"{arr1}  -> {bubbleSort(arr1)}\")\n",
        "print(f\"{arr2}     -> {bubbleSort(arr2)}\")\n",
        "print(f\"{arr3}  -> {bubbleSort(arr3)}\")"
      ],
      "metadata": {
        "colab": {
          "base_uri": "https://localhost:8080/"
        },
        "id": "XjDVengbCGpF",
        "outputId": "f7386cf4-9615-4fac-ce83-b4041351555f"
      },
      "execution_count": null,
      "outputs": [
        {
          "output_type": "stream",
          "name": "stdout",
          "text": [
            "[-6, -5, -4, 0, 1, 2, 3, 7, 9]  -> [-6, -5, -4, 0, 1, 2, 3, 7, 9]\n",
            "[-6, -5, -4, -3, -2, -1, 0]     -> [-6, -5, -4, -3, -2, -1, 0]\n",
            "[0, 36, 40, 60, 74, 100, 1000]  -> [0, 36, 40, 60, 74, 100, 1000]\n"
          ]
        }
      ]
    },
    {
      "cell_type": "code",
      "source": [
        "## HEAP SORT\n",
        "\n",
        "print(f\"{arr1}  -> {heapSort(arr1)}\")\n",
        "print(f\"{arr2}     -> {heapSort(arr2)}\")\n",
        "print(f\"{arr3}  -> {heapSort(arr3)}\")"
      ],
      "metadata": {
        "colab": {
          "base_uri": "https://localhost:8080/"
        },
        "id": "WJBzjxLICN6X",
        "outputId": "72e313b1-f4f4-42c2-97ca-0fdc0b6f54e7"
      },
      "execution_count": null,
      "outputs": [
        {
          "output_type": "stream",
          "name": "stdout",
          "text": [
            "[-5, 1, 9, 7, 3, 2, -6, -4, 0]  -> [-6, -5, -4, 0, 1, 2, 3, 7, 9]\n",
            "[0, -1, -2, -3, -4, -5, -6]     -> [-6, -5, -4, -3, -2, -1, 0]\n",
            "[100, 60, 40, 0, 1000, 36, 74]  -> [0, 36, 40, 60, 74, 100, 1000]\n"
          ]
        }
      ]
    },
    {
      "cell_type": "code",
      "source": [
        "## QUICK SORT\n",
        "\n",
        "print(f\"{arr1}  -> {quickSort(arr1, 0, 8)}\")\n",
        "print(f\"{arr2}     -> {quickSort(arr2, 0, 6)}\")\n",
        "print(f\"{arr3}  -> {quickSort(arr3, 0, 6)}\")"
      ],
      "metadata": {
        "colab": {
          "base_uri": "https://localhost:8080/"
        },
        "id": "xGDZnFm3CWMi",
        "outputId": "d149d389-46ef-4011-840b-539634b08e0b"
      },
      "execution_count": null,
      "outputs": [
        {
          "output_type": "stream",
          "name": "stdout",
          "text": [
            "[-6, -5, -4, 0, 1, 2, 3, 7, 9]  -> [-6, -5, -4, 0, 1, 2, 3, 7, 9]\n",
            "[-6, -5, -4, -3, -2, -1, 0]     -> [-6, -5, -4, -3, -2, -1, 0]\n",
            "[0, 36, 40, 60, 74, 100, 1000]  -> [0, 36, 40, 60, 74, 100, 1000]\n"
          ]
        }
      ]
    }
  ],
  "metadata": {
    "colab": {
      "provenance": [],
      "toc_visible": true,
      "include_colab_link": true
    },
    "kernelspec": {
      "display_name": "Python 3",
      "name": "python3"
    },
    "language_info": {
      "name": "python"
    }
  },
  "nbformat": 4,
  "nbformat_minor": 0
}